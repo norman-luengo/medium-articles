{
 "cells": [
  {
   "cell_type": "code",
   "execution_count": null,
   "metadata": {},
   "outputs": [],
   "source": []
  },
  {
   "cell_type": "code",
   "execution_count": null,
   "metadata": {},
   "outputs": [],
   "source": [
    "import sys\n",
    "sys._is_gil_enabled()\n"
   ]
  },
  {
   "cell_type": "code",
   "execution_count": null,
   "metadata": {},
   "outputs": [],
   "source": [
    "import threading\n",
    "import time\n",
    "\n",
    "def fib(n):\n",
    "    if n < 2:\n",
    "        return n\n",
    "    return fib(n - 1) + fib(n - 2)\n",
    "\n",
    "def worker():\n",
    "    start= time.time()\n",
    "    print(f\"{threading.current_thread().name} starting\")\n",
    "    fib(40)\n",
    "    print(f\"{threading.current_thread().name} finished\")\n",
    "    end = time.time()\n",
    "    epoch=end-start\n",
    "    print(f\"Total time: {epoch} for {threading.current_thread().name}\")\n",
    "\n",
    "threads = []\n",
    "\n",
    "for i in range(4):\n",
    "    t = threading.Thread(target=worker, name=f\"Thread-{i+1}\")\n",
    "    threads.append(t)\n",
    "    t.start()\n",
    "\n",
    "for t in threads:\n",
    "    t.join()\n",
    "\n",
    "threading.enumerate()"
   ]
  }
 ],
 "metadata": {
  "kernelspec": {
   "display_name": ".venv",
   "language": "python",
   "name": "python3"
  },
  "language_info": {
   "codemirror_mode": {
    "name": "ipython",
    "version": 3
   },
   "file_extension": ".py",
   "mimetype": "text/x-python",
   "name": "python",
   "nbconvert_exporter": "python",
   "pygments_lexer": "ipython3",
   "version": "3.13.1"
  }
 },
 "nbformat": 4,
 "nbformat_minor": 2
}
