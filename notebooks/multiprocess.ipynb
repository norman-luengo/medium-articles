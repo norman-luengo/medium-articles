{
 "cells": [
  {
   "cell_type": "markdown",
   "metadata": {},
   "source": [
    "# How Python works behind the scenes\n",
    "\n",
    "As you may know python is an interpreted programming language, that means that a lot of things are happening behind the scenes to make our time with python easier and more friendly.\n",
    "\n",
    "Have you ever asked yourself how much resources are you using to run your python code? Is it using all your powerful cpu cores and all your memory ram?\n",
    "\n",
    "By default the answer to that is **no**, you are not using all the power your machine has if you are not into multiprocessing. Python only uses one process by default which is using only one core of your cpu, that means that even your machine has 10 cores your python script is only using 1, so actually you are missing a lot of the power your machine is capable of.\n",
    "\n",
    "Before deep dive into multiprocessing is easier to understand asynchrounous programming."
   ]
  },
  {
   "cell_type": "markdown",
   "metadata": {},
   "source": [
    "# ASYNC Concepts\n",
    "\n",
    "To compare and fully understand how async works in python, we are going to create some functions to be called in both ways, synchronously and asynchronously. \n",
    "\n",
    "Before going into practical examples let's clarify some concepts:\n",
    "\n",
    "* Concurrency:\n",
    "* Paralellism:"
   ]
  },
  {
   "cell_type": "markdown",
   "metadata": {},
   "source": [
    "We create a sync function in the traditional way with *def*, async functions are defined with *async def*. For illustrative purposes, we are also going to see the difference between blocking and non-blocking functions."
   ]
  },
  {
   "cell_type": "code",
   "execution_count": 1,
   "metadata": {},
   "outputs": [],
   "source": [
    "import multiprocessing as mp\n",
    "import time\n",
    "import asyncio\n",
    "import sys\n",
    "from termcolor import colored\n",
    "\n",
    "\n",
    "class AsyncTests:\n",
    "    \"\"\" Sync and Async functions together with block and non-blocking functions to be tested.\"\"\"\n",
    "    \n",
    "    def sync_user_call(self, user, delay):\n",
    "        time.sleep(delay) \n",
    "        print(f\"This is user {user} calling the method sync with delay = {delay}\")\n",
    "        return\n",
    "    \n",
    "    async def async_user_call(self, user, delay):\n",
    "        time.sleep(delay) # blocking func\n",
    "        print(f\"This is user {user} calling the method async with a blocking task with delay = {delay}\")\n",
    "        return\n",
    "        \n",
    "    async def async_user_call_nonblocking(self, user, delay):\n",
    "        await asyncio.sleep(delay) # non-blocking func\n",
    "        print(f\"This is user {user} calling the method async with a non-blocking task with delay = {delay}\")\n",
    "        return\n",
    "    \n",
    "\n"
   ]
  },
  {
   "cell_type": "markdown",
   "metadata": {},
   "source": []
  },
  {
   "cell_type": "code",
   "execution_count": 2,
   "metadata": {},
   "outputs": [
    {
     "data": {
      "text/html": [
       "<img src=\"https://miro.medium.com/v2/resize:fit:1100/format:webp/1*muAffNdekFS8bNH4lTFLmQ.png\"/>"
      ],
      "text/plain": [
       "<IPython.core.display.Image object>"
      ]
     },
     "execution_count": 2,
     "metadata": {},
     "output_type": "execute_result"
    }
   ],
   "source": [
    "from IPython.display import Image\n",
    "Image(url=\"https://miro.medium.com/v2/resize:fit:1100/format:webp/1*muAffNdekFS8bNH4lTFLmQ.png\")"
   ]
  },
  {
   "cell_type": "code",
   "execution_count": 3,
   "metadata": {},
   "outputs": [],
   "source": [
    "user1 = AsyncTests()\n",
    "user2 = AsyncTests()\n",
    "user3 = AsyncTests()"
   ]
  },
  {
   "cell_type": "code",
   "execution_count": 5,
   "metadata": {},
   "outputs": [
    {
     "name": "stdout",
     "output_type": "stream",
     "text": [
      "This is user 1 calling the method sync with delay = 2\n",
      "This is user 2 calling the method sync with delay = 2\n",
      "This is user 3 calling the method sync with delay = 2\n",
      "\u001b[34mTotal time with sync execution: 6.01\u001b[0m\n",
      "This is user 1 calling the method async with a blocking task with delay = 2\n",
      "This is user 2 calling the method async with a blocking task with delay = 2\n",
      "This is user 3 calling the method async with a blocking task with delay = 2\n",
      "\u001b[34mTotal time with async execution and blocking function: 6.02\u001b[0m\n",
      "This is user 1 calling the method async with a non-blocking task with delay = 1\n",
      "This is user 2 calling the method async with a non-blocking task with delay = 1\n",
      "This is user 3 calling the method async with a non-blocking task with delay = 1\n",
      "\u001b[34mTotal time with async execution and non-blocking function: 1.0\u001b[0m\n"
     ]
    }
   ],
   "source": [
    "start = time.perf_counter()\n",
    "user1.sync_user_call(user=1, delay = 2)\n",
    "user2.sync_user_call(user=2, delay = 2)\n",
    "user3.sync_user_call(user=3, delay = 2)\n",
    "end = time.perf_counter()\n",
    "elapsed_time = end-start\n",
    "print(colored(f\"Total time with sync execution: {round(elapsed_time,2)}\", 'blue'))\n",
    "\n",
    "\n",
    "start = time.perf_counter()\n",
    "await user1.async_user_call(user=1, delay=2)\n",
    "await user2.async_user_call(user=2, delay=2)\n",
    "await user3.async_user_call(user=3, delay=2)\n",
    "end = time.perf_counter()\n",
    "elapsed_time = end-start\n",
    "print(colored(f\"Total time with async execution and blocking function: {round(elapsed_time,2)}\", 'blue'))\n",
    "\n",
    "start = time.perf_counter()\n",
    "await asyncio.gather(user1.async_user_call_nonblocking(user=1, delay=1), \n",
    "                     user2.async_user_call_nonblocking(user=2, delay=1),\n",
    "                     user3.async_user_call_nonblocking(user=3, delay=1))\n",
    "end = time.perf_counter()\n",
    "elapsed_time = end-start\n",
    "print(colored(f\"Total time with async execution and non-blocking function: {round(elapsed_time,2)}\",'blue'))\n"
   ]
  },
  {
   "cell_type": "markdown",
   "metadata": {},
   "source": [
    "## Key Concepts\n",
    "To understand the difference between time.sleep() and asyncio.sleep, it is important to understand the following key concepts:\n",
    "\n",
    "**Blocking vs. Non-Blocking**: A blocking function stops the execution of the entire program until it has completed, while a non-blocking function allows other tasks to be performed during its execution.\n",
    "\n",
    "**Coroutines**: A coroutine is a special type of function that can be paused and resumed at specific points. Coroutines are used in asyncio to allow the program to switch between tasks as needed.\n",
    "\n",
    "**Event Loop**: An event loop is a mechanism that allows the program to switch between tasks. In asyncio, the event loop is responsible for scheduling and executing coroutines."
   ]
  },
  {
   "cell_type": "markdown",
   "metadata": {},
   "source": [
    "## When to Use Each Function\n",
    "When deciding whether to use time.sleep() or asyncio.sleep, it is important to consider the following factors:\n",
    "\n",
    "**Blocking vs. Non-Blocking**: If you need to pause the execution of the entire program, use time.sleep(). If you need to allow other tasks to be performed during the waiting period, use asyncio.sleep.\n",
    "\n",
    "**Performance**: asyncio.sleep is generally more performant than time.sleep() because it allows the program to switch between tasks as needed.\n",
    "\n",
    "**Complexity**: asyncio can be more complex to use than standard functions because it requires the use of coroutines and an event loop. If you do not need the benefits of asyncio, it may be simpler to use standard functions."
   ]
  },
  {
   "cell_type": "markdown",
   "metadata": {},
   "source": [
    "## Simultaneous instances with async"
   ]
  },
  {
   "cell_type": "code",
   "execution_count": null,
   "metadata": {},
   "outputs": [],
   "source": [
    "import multiprocessing as mp\n",
    "import time\n",
    "import asyncio\n",
    "import sys\n",
    "from termcolor import colored\n",
    "\n",
    "\n",
    "class Test:\n",
    "    def __init__(self) -> None:\n",
    "        self.value = 0\n",
    "    \n",
    "    def counter(self):\n",
    "        for i in range(10**9):\n",
    "            self.value += 1\n",
    "        return\n",
    "    \n",
    "    def sync_user_call(self, user, delay, value):\n",
    "        time.sleep(delay) \n",
    "        self.value = value\n",
    "        print(f\"This is user {user} calling the method sync with delay = {delay} and value = {self.value}\")\n",
    "        return\n",
    "    \n",
    "    async def async_user_call(self, user, delay, value):\n",
    "        time.sleep(delay) # blocking func\n",
    "        self.value = value\n",
    "        print(f\"This is user {user} calling the method async with a blocking task with delay = {delay} and value = {self.value}\")\n",
    "        return\n",
    "        \n",
    "    async def async_user_call_nonblocking(self, user, delay, value):\n",
    "        await asyncio.sleep(delay) # non-blocking func\n",
    "        self.value = value\n",
    "        print(f\"This is user {user} calling the method async with a non-blocking task with delay = {delay} and value = {self.value}\")\n",
    "        return"
   ]
  },
  {
   "cell_type": "code",
   "execution_count": 188,
   "metadata": {},
   "outputs": [
    {
     "name": "stdout",
     "output_type": "stream",
     "text": [
      "User1 Test instance id: 4509475984\n",
      "User2 Test instance id: 4401084176\n",
      "User3 Test instance id: 4401085776 \n",
      "\n",
      "User2 Test instance id: 4401084176\n",
      "User3 Test instance id: 4401084176\n"
     ]
    }
   ],
   "source": [
    "user1 = Test()\n",
    "user2 = Test()\n",
    "user3 = Test()\n",
    "print(f\"User1 Test instance id: {id(user1)}\")\n",
    "print(f\"User2 Test instance id: {id(user2)}\")\n",
    "print(f\"User3 Test instance id: {id(user3)} \\n\")\n",
    "\n",
    "user3 = user2\n",
    "print(f\"User2 Test instance id: {id(user2)}\")\n",
    "print(f\"User3 Test instance id: {id(user3)}\")\n",
    "# print(sys.getrefcount(user2))\n"
   ]
  },
  {
   "cell_type": "code",
   "execution_count": 189,
   "metadata": {},
   "outputs": [
    {
     "name": "stdout",
     "output_type": "stream",
     "text": [
      "This is user 1 calling the method sync with delay = 1 and value = 1\n",
      "This is user 2 calling the method sync with delay = 5 and value = 2\n",
      "This is user 3 calling the method sync with delay = 1 and value = 3\n",
      "\u001b[34mTotal time with sync execution: 7.008699291996891\u001b[0m\n",
      " instance id: 4401084176 user 3 value is: 3\n",
      " instance id: 4401084176 user 2 value is: 3\n",
      " instance id: 4509475984 user 1 value is: 1\n",
      "\n",
      "This is user 1 calling the method async with a blocking task with delay = 1 and value = 10\n",
      "This is user 2 calling the method async with a blocking task with delay = 5 and value = 20\n",
      "This is user 3 calling the method async with a blocking task with delay = 1 and value = 30\n",
      "\u001b[34mTotal time with async execution: 7.01378629100509\u001b[0m\n",
      " instance id: 4401084176 user 3 value is: 30\n",
      " instance id: 4401084176 user 2 value is: 30\n",
      " instance id: 4509475984 user 1 value is: 10\n",
      "\n",
      "This is user 1 calling the method async with a non-blocking task with delay = 1 and value = 100\n",
      "This is user 2 calling the method async with a non-blocking task with delay = 1 and value = 200\n",
      "This is user 3 calling the method async with a non-blocking task with delay = 1 and value = 300\n",
      "\u001b[34mTotal time with async execution: 1.0030565000197385\u001b[0m\n",
      " instance id: 4401084176 user 3 value is: 300\n",
      " instance id: 4401084176 user 2 value is: 300\n",
      " instance id: 4509475984 user 1 value is: 100 \n",
      "\n",
      "This is user 3 calling the method async with a non-blocking task with delay = 1 and value = 3000\n",
      "This is user 1 calling the method async with a non-blocking task with delay = 3 and value = 1000\n",
      "This is user 2 calling the method async with a non-blocking task with delay = 10 and value = 2000\n",
      "\u001b[34mTotal time with async execution: 10.002582584012998\u001b[0m\n",
      " instance id: 4401084176 user 3 value is: 2000\n",
      " instance id: 4401084176 user 2 value is: 2000\n",
      " instance id: 4509475984 user 1 value is: 1000\n",
      "\n"
     ]
    }
   ],
   "source": [
    "start = time.perf_counter()\n",
    "user1.sync_user_call(user=1, delay = 1, value=1)\n",
    "user2.sync_user_call(user=2, delay = 5, value=2)\n",
    "user3.sync_user_call(user=3, delay = 1, value=3)\n",
    "end = time.perf_counter()\n",
    "elapsed_time = end-start\n",
    "print(colored(f\"Total time with sync execution: {elapsed_time}\", 'blue'))\n",
    "print(f\" instance id: {id(user3)} user 3 value is: {user3.value}\")\n",
    "print(f\" instance id: {id(user2)} user 2 value is: {user2.value}\")\n",
    "print(f\" instance id: {id(user1)} user 1 value is: {user1.value}\\n\")\n",
    "\n",
    "start = time.perf_counter()\n",
    "await user1.async_user_call(user=1, delay=1, value = 10)\n",
    "await user2.async_user_call(user=2, delay=5, value = 20)\n",
    "await user3.async_user_call(user=3, delay=1, value = 30)\n",
    "end = time.perf_counter()\n",
    "elapsed_time = end-start\n",
    "print(colored(f\"Total time with async execution: {elapsed_time}\", 'blue'))\n",
    "print(f\" instance id: {id(user3)} user 3 value is: {user3.value}\")\n",
    "print(f\" instance id: {id(user2)} user 2 value is: {user2.value}\")\n",
    "print(f\" instance id: {id(user1)} user 1 value is: {user1.value}\\n\")\n",
    "\n",
    "start = time.perf_counter()\n",
    "await asyncio.gather(user1.async_user_call_nonblocking(user=1, delay=1, value=100), \n",
    "                     user2.async_user_call_nonblocking(user=2, delay=1, value=200),\n",
    "                     user3.async_user_call_nonblocking(user=3, delay=1, value=300))\n",
    "end = time.perf_counter()\n",
    "elapsed_time = end-start\n",
    "print(colored(f\"Total time with async execution: {elapsed_time}\",'blue'))\n",
    "print(f\" instance id: {id(user3)} user 3 value is: {user3.value}\")\n",
    "print(f\" instance id: {id(user2)} user 2 value is: {user2.value}\")\n",
    "print(f\" instance id: {id(user1)} user 1 value is: {user1.value} \\n\")\n",
    "\n",
    "start = time.perf_counter()\n",
    "await asyncio.gather(user1.async_user_call_nonblocking(user=1, delay=3, value=1000), \n",
    "                     user2.async_user_call_nonblocking(user=2, delay=10, value=2000),\n",
    "                     user3.async_user_call_nonblocking(user=3, delay=1, value=3000))\n",
    "end = time.perf_counter()\n",
    "elapsed_time = end-start\n",
    "print(colored(f\"Total time with async execution: {elapsed_time}\",'blue'))\n",
    "print(f\" instance id: {id(user3)} user 3 value is: {user3.value}\")\n",
    "print(f\" instance id: {id(user2)} user 2 value is: {user2.value}\")\n",
    "print(f\" instance id: {id(user1)} user 1 value is: {user1.value}\\n\")"
   ]
  },
  {
   "cell_type": "code",
   "execution_count": 184,
   "metadata": {},
   "outputs": [
    {
     "name": "stdout",
     "output_type": "stream",
     "text": [
      "instance id: 4509472784 and value: 0\n",
      "2\n",
      "(375, 0, 0)\n",
      "(12, 0, 0)\n",
      "instance id: 4395283792 and value: 0\n",
      "2\n",
      "(26, 0, 0)\n",
      "(0, 0, 0)\n",
      "instance id: 4401136912 and value: 0\n",
      "2\n",
      "(25, 0, 0)\n",
      "(8, 0, 0)\n",
      "4362399080 4362399080 4362399080\n"
     ]
    }
   ],
   "source": [
    "import gc\n",
    "\n",
    "def call():\n",
    "    instance = Test()\n",
    "    print(f\"instance id: {id(instance)} and value: {instance.value}\")\n",
    "    print(sys.getrefcount(instance)) \n",
    "    # print(gc.garbage)\n",
    "    # gc.collect()\n",
    "    print(gc.get_count())\n",
    "    gc.collect()\n",
    "    print(gc.get_count())\n",
    "    return instance.value\n",
    "\n",
    "response1 = call()\n",
    "response2 = call()\n",
    "response3 = call()\n",
    "print(id(response1), id(response2), id(response3))\n"
   ]
  },
  {
   "cell_type": "code",
   "execution_count": 144,
   "metadata": {},
   "outputs": [
    {
     "data": {
      "text/plain": [
       "0"
      ]
     },
     "execution_count": 144,
     "metadata": {},
     "output_type": "execute_result"
    }
   ],
   "source": [
    "import gc\n",
    "\n",
    "gc.collect()"
   ]
  },
  {
   "cell_type": "code",
   "execution_count": null,
   "metadata": {},
   "outputs": [],
   "source": []
  }
 ],
 "metadata": {
  "kernelspec": {
   "display_name": ".venv",
   "language": "python",
   "name": "python3"
  },
  "language_info": {
   "codemirror_mode": {
    "name": "ipython",
    "version": 3
   },
   "file_extension": ".py",
   "mimetype": "text/x-python",
   "name": "python",
   "nbconvert_exporter": "python",
   "pygments_lexer": "ipython3",
   "version": "3.13.1"
  }
 },
 "nbformat": 4,
 "nbformat_minor": 2
}
